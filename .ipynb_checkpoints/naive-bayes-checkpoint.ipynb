{
 "cells": [
  {
   "cell_type": "code",
   "execution_count": null,
   "metadata": {},
   "outputs": [],
   "source": [
    "from getEmbeddings import getEmbeddings\n",
    "from sklearn.naive_bayes import GaussianNB\n",
    "import nltk\n",
    "import numpy as np\n",
    "import matplotlib.pyplot as plt\n",
    "import scikitplot.plotters as skplt\n",
    "\n",
    "\n",
    "nltk.download('stopwords')\n",
    "\n",
    "def plot_cmat(yte, ypred):\n",
    "    '''Plotting confusion matrix'''\n",
    "    skplt.plot_confusion_matrix(yte,ypred)\n",
    "    plt.show()\n",
    "\n",
    "\n",
    "xtr,xte,ytr,yte = getEmbeddings(\"datasets/train.csv\")\n",
    "np.save('./xtr', xtr)\n",
    "np.save('./xte', xte)\n",
    "np.save('./ytr', ytr)\n",
    "np.save('./yte', yte)\n",
    "\n",
    "xtr = np.load('./xtr.npy')\n",
    "xte = np.load('./xte.npy')\n",
    "ytr = np.load('./ytr.npy')\n",
    "yte = np.load('./yte.npy')\n",
    "\n",
    "gnb = GaussianNB()\n",
    "gnb.fit(xtr,ytr)\n",
    "y_pred = gnb.predict(xte)\n",
    "m = yte.shape[0]\n",
    "n = (yte != y_pred).sum()\n",
    "print(\"Accuracy = \" + format((m-n)/m*100, '.2f') + \"%\")   # 72.94%\n",
    "\n",
    "plot_cmat(yte, y_pred)\n"
   ]
  },
  {
   "cell_type": "code",
   "execution_count": 2,
   "metadata": {},
   "outputs": [
    {
     "name": "stderr",
     "output_type": "stream",
     "text": [
      "[nltk_data] Downloading package stopwords to\n",
      "[nltk_data]     /Users/mgahlot/nltk_data...\n",
      "[nltk_data]   Package stopwords is already up-to-date!\n"
     ]
    },
    {
     "data": {
      "text/plain": [
       "True"
      ]
     },
     "execution_count": 2,
     "metadata": {},
     "output_type": "execute_result"
    }
   ],
   "source": []
  },
  {
   "cell_type": "code",
   "execution_count": null,
   "metadata": {},
   "outputs": [],
   "source": []
  }
 ],
 "metadata": {
  "kernelspec": {
   "display_name": "Python 3",
   "language": "python",
   "name": "python3"
  },
  "language_info": {
   "codemirror_mode": {
    "name": "ipython",
    "version": 3
   },
   "file_extension": ".py",
   "mimetype": "text/x-python",
   "name": "python",
   "nbconvert_exporter": "python",
   "pygments_lexer": "ipython3",
   "version": "3.7.3"
  }
 },
 "nbformat": 4,
 "nbformat_minor": 2
}
